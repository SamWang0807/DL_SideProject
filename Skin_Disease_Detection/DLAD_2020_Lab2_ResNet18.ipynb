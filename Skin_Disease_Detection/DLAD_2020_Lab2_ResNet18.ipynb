{
 "cells": [
  {
   "cell_type": "code",
   "execution_count": 2,
   "metadata": {
    "id": "4lR58C0ocXvs"
   },
   "outputs": [],
   "source": [
    "import torch\n",
    "import numpy as np\n",
    "import torch.nn as nn\n",
    "import torch.nn.functional as F\n",
    "import torchvision\n",
    "from torchvision import datasets, transforms\n",
    "import torch.optim as optim\n",
    "import matplotlib.pyplot as plt\n",
    "import torch.utils.data as data\n",
    "import os"
   ]
  },
  {
   "cell_type": "code",
   "execution_count": 3,
   "metadata": {
    "id": "7SNG1RmAcXvt"
   },
   "outputs": [],
   "source": [
    "TEST_DATA_PATH =  \"./test\"\n",
    "TRAIN_DATA_PATH = \"./train\""
   ]
  },
  {
   "cell_type": "code",
   "execution_count": 11,
   "metadata": {
    "id": "NIkT37_dcXvt",
    "outputId": "152e29c9-9241-445b-d8da-17167d4f5149"
   },
   "outputs": [
    {
     "name": "stdout",
     "output_type": "stream",
     "text": [
      "<torch.utils.data.dataset.ConcatDataset object at 0x7f3be7c2a5c0>\n"
     ]
    }
   ],
   "source": [
    "# data transform, you can add different transform methods\n",
    "img_size = 224\n",
    "train_transform_orig = transforms.Compose([\n",
    "                                    transforms.Resize((img_size,img_size)),\n",
    "                                    transforms.ToTensor(),\n",
    "                                    transforms.Normalize([0.485, 0.456, 0.406], [0.229, 0.224, 0.225]),\n",
    "                                    ])\n",
    "train_transform_aug1 = transforms.Compose([\n",
    "                                    transforms.RandomResizedCrop(224),\n",
    "                                    transforms.RandomHorizontalFlip(),\n",
    "                                    transforms.ToTensor(),\n",
    "                                    transforms.Normalize([0.485, 0.456, 0.406], [0.229, 0.224, 0.225]),\n",
    "                                    ])\n",
    "train_transform_aug2 = transforms.Compose([\n",
    "                                    transforms.RandomResizedCrop(224),\n",
    "                                    transforms.RandomHorizontalFlip(),\n",
    "                                    transforms.ToTensor(),\n",
    "                                    transforms.Normalize([0.485, 0.456, 0.406], [0.229, 0.224, 0.225]),\n",
    "                                    ])\n",
    "\n",
    "test_transform = transforms.Compose([transforms.Resize((img_size,img_size)),\n",
    "                                    transforms.ToTensor(),\n",
    "                                    transforms.Normalize([0.485, 0.456, 0.406], [0.229, 0.224, 0.225])\n",
    "                                   ])\n",
    "\n",
    "orig_dataset = datasets.ImageFolder(root=TRAIN_DATA_PATH,transform=train_transform_orig)\n",
    "aug1_dataset = datasets.ImageFolder(root=TRAIN_DATA_PATH,transform=train_transform_aug1)\n",
    "aug2_dataset = datasets.ImageFolder(root=TRAIN_DATA_PATH,transform=train_transform_aug2)\n",
    "\n",
    "dataset = data.ConcatDataset([orig_dataset, aug1_dataset, aug2_dataset])\n",
    "test_data = datasets.ImageFolder(root=TEST_DATA_PATH,transform=test_transform)\n",
    "\n",
    "# spilt data into training and validation\n",
    "TOTAL_SIZE = len(dataset)\n",
    "ratio = 0.9\n",
    "train_len = round(TOTAL_SIZE * ratio)\n",
    "val_len = round(TOTAL_SIZE * (1-ratio))\n",
    "\n",
    "train_dataset, val_dataset = torch.utils.data.random_split(dataset, [train_len, val_len])\n",
    "\n",
    "# data loader, you can choose the input arguments by yourself\n",
    "\n",
    "train_data_loader = data.DataLoader(train_dataset, batch_size=32, shuffle=True,  num_workers=4)\n",
    "val_data_loader = data.DataLoader(val_dataset, batch_size=32, shuffle=True,  num_workers=4)\n",
    "test_data_loader  = data.DataLoader(test_data, batch_size=8, shuffle=False, num_workers=4) \n",
    "\n",
    "print(dataset)\n",
    "# print(dataset.class_to_idx)"
   ]
  },
  {
   "cell_type": "code",
   "execution_count": null,
   "metadata": {
    "id": "oBoqGdWScXvv"
   },
   "outputs": [],
   "source": [
    "def train(model, data_loader, optimizer, epoch, verbose=True):\n",
    "    model.train()\n",
    "    loss_avg = 0.0\n",
    "    for batch_idx, (data, target) in enumerate(data_loader):\n",
    "        data, target = data.to(device), target.to(device)\n",
    "        \n",
    "        output = model(data)\n",
    "        # loss function\n",
    "        loss   = loss_func(output,target)\n",
    "        optimizer.zero_grad()   \n",
    "        loss_avg = loss.item()\n",
    "        \n",
    "        # do back propagation\n",
    "        loss.backward()\n",
    "        optimizer.step()\n",
    "        print(len(data_loader))\n",
    "        #print\n",
    "        verbose_step = len(data_loader) // 10\n",
    "#         if batch_idx % verbose_step == 0 and verbose:\n",
    "#             print('Train Epoch: {} [{}/{} ({:.0f}%)]\\tLoss: {:.6f}'.format(\n",
    "#                 epoch, batch_idx * len(data), len(data_loader.dataset),\n",
    "#                 100. * batch_idx / len(data_loader), loss.item()))\n",
    "\n",
    "    print(loss_avg/len(data_loader))\n",
    "    return loss_avg / len(data_loader)\n",
    "\n",
    "def valid(model, data_loader):\n",
    "    with torch.no_grad():\n",
    "        model.eval()\n",
    "        valid_loss = 0\n",
    "        correct = 0\n",
    "        for data, target in data_loader:\n",
    "            data, target = data.to(device), target.to(device)\n",
    "            output = model(data)\n",
    "            valid_loss += F.cross_entropy(output, target, reduction='sum').item() # sum up batch loss\n",
    "            pred = output.data.max(1, keepdim=True)[1] # get the index of the max log-probability\n",
    "            correct += pred.eq(target.data.view_as(pred)).cpu().sum().item() \n",
    "\n",
    "        valid_loss /= len(data_loader.dataset)\n",
    "        print('\\nValid set: Average loss: {:.4f}, Accuracy: {}/{} ({:.0f}%)\\n'.format(\n",
    "            valid_loss, correct, len(data_loader.dataset),\n",
    "            100. * correct / len(data_loader.dataset)))\n",
    "    return float(correct) / len(data_loader.dataset)"
   ]
  },
  {
   "cell_type": "code",
   "execution_count": null,
   "metadata": {
    "id": "5DZUdXVGcXvw"
   },
   "outputs": [],
   "source": [
    "class ResNet(nn.Module):\n",
    "    def __init__(self,basicblock,num_classes=5):\n",
    "    \n",
    "        super(ResNet, self).__init__()\n",
    "        self.conv1 = nn.Conv2d(3, 64, kernel_size=7, stride=2, padding=3, bias=False)\n",
    "        self.bn1 = nn.BatchNorm2d(64)\n",
    "        self.relu = nn.ReLU(inplace=True)\n",
    "        self.maxpool = nn.MaxPool2d(kernel_size=3, stride=2, padding=1)\n",
    "        self.layer1=nn.Sequential(BasicBlock(inplanes=64, planes=64, stride=1),BasicBlock(inplanes=64, planes=64, stride=1))\n",
    "        self.layer2=nn.Sequential(BasicBlock(inplanes=64, planes=128, stride=2),BasicBlock(inplanes=128, planes=128, stride=1))\n",
    "        self.layer3=nn.Sequential(BasicBlock(inplanes=128, planes=256, stride=2),BasicBlock(inplanes=256, planes=256, stride=1))\n",
    "        self.layer4=nn.Sequential(BasicBlock(inplanes=256, planes=512, stride=2),BasicBlock(inplanes=512, planes=512, stride=1))\n",
    "        self.avgpool=nn.AdaptiveAvgPool2d((1,1))\n",
    "        self.fc = nn.Linear(512,5)\n",
    "    def forward(self, x):\n",
    "        # 输入\n",
    "        x = self.conv1(x)\n",
    "        x = self.bn1(x)\n",
    "        x = self.relu(x)\n",
    "        x = self.maxpool(x)\n",
    "\n",
    "        # 中间卷积\n",
    "        x = self.layer1(x)\n",
    "        x = self.layer2(x)\n",
    "        x = self.layer3(x)\n",
    "        x = self.layer4(x)\n",
    "\n",
    "        # 输出\n",
    "        x = self.avgpool(x)\n",
    "        x = x.view(x.size(0), -1)\n",
    "        x = self.fc(x)\n",
    "\n",
    "        return x\n",
    "\n",
    "# 生成一个res18网络\n",
    "def resnet18(pretrained=False, **kwargs):\n",
    "    model = ResNet(BasicBlock, [2, 2, 2, 2], **kwargs)\n",
    "    if pretrained:\n",
    "        model.load_state_dict(model_zoo.load_url(model_urls['resnet18']))\n",
    "    return model"
   ]
  },
  {
   "cell_type": "code",
   "execution_count": null,
   "metadata": {
    "id": "lvkjOAEXcXvx"
   },
   "outputs": [],
   "source": [
    "class BasicBlock(nn.Module):\n",
    "    expansion = 1\n",
    "\n",
    "    def __init__(self, inplanes, planes, stride=1, downsample=None):\n",
    "        super(BasicBlock, self).__init__()\n",
    "        self.conv1 = nn.Conv2d(inplanes, planes,kernel_size=3,stride=stride,padding=1)\n",
    "        self.bn1 = nn.BatchNorm2d(planes)\n",
    "        self.relu = nn.ReLU(inplace=True)\n",
    "        self.conv2 = nn.Conv2d(planes, planes,kernel_size=3,stride=1,padding=1)\n",
    "        self.bn2 = nn.BatchNorm2d(planes)\n",
    "        self.downsample = None\n",
    "        if(stride==2):\n",
    "            self.downsample = nn.Sequential(nn.Conv2d(inplanes, planes,kernel_size=1,stride=2),nn.BatchNorm2d(planes))\n",
    "        self.stride = stride\n",
    "\n",
    "    def forward(self, x):\n",
    "        identity = x\n",
    "\n",
    "        out = self.conv1(x)\n",
    "        out = self.bn1(out)\n",
    "        out = self.relu(out)\n",
    "\n",
    "        out = self.conv2(out)\n",
    "        out = self.bn2(out)\n",
    "\n",
    "        if self.downsample is not None:\n",
    "            identity = self.downsample(x)\n",
    "\n",
    "        out += identity\n",
    "        out = self.relu(out)\n",
    "\n",
    "        return out"
   ]
  },
  {
   "cell_type": "code",
   "execution_count": null,
   "metadata": {
    "id": "lLB3MTo8cXvx",
    "outputId": "f9aef445-65fe-4a4d-dd83-2bf92b42dfdf"
   },
   "outputs": [],
   "source": [
    "# using gpu if available\n",
    "device = torch.device(\"cuda\" if torch.cuda.is_available() else \"cpu\")\n",
    "device"
   ]
  },
  {
   "cell_type": "code",
   "execution_count": null,
   "metadata": {
    "id": "QT7fV8KPcXvx",
    "outputId": "2f0aa4d6-347b-40ef-c519-9362693cd2f8",
    "scrolled": true
   },
   "outputs": [],
   "source": [
    "####################  implement your optimizer ###################################\n",
    "## yo can use any training methods if you want (ex:lr decay, weight decay.....)\n",
    "\n",
    "model = ResNet(BasicBlock)\n",
    "model.to(device=device)\n",
    "lr=0.001\n",
    "optimizer = torch.optim.Adam(model.parameters(),lr=lr)\n",
    "loss_func = nn.CrossEntropyLoss()\n",
    "# start training\n",
    "epochs = 40\n",
    "acc = 0.0\n",
    "for epoch in range(epochs):\n",
    "    model.train()\n",
    "    train(model, train_data_loader, optimizer, epoch)\n",
    "    accuracy = valid(model, val_data_loader)\n",
    "    if accuracy > acc:\n",
    "        acc = accuracy\n",
    "        print(\"-------------saving model--------------\")\n",
    "        # save the model\n",
    "        torch.save(model, \"model.pth\")"
   ]
  },
  {
   "cell_type": "code",
   "execution_count": null,
   "metadata": {
    "id": "ulqzrwGTcXvx"
   },
   "outputs": [],
   "source": [
    "test_transform = transforms.Compose([transforms.Resize((img_size,img_size)),\n",
    "                                    transforms.ToTensor()\n",
    "                                    ])\n",
    "\n",
    "test_data = datasets.ImageFolder(root=TEST_DATA_PATH,transform=test_transform)\n",
    "test_data_loader  = data.DataLoader(test_data, batch_size=8, shuffle=False, num_workers=4) "
   ]
  },
  {
   "cell_type": "code",
   "execution_count": null,
   "metadata": {
    "id": "tUEAnDoOcXvy"
   },
   "outputs": [],
   "source": [
    "device = torch.device(\"cuda\" if torch.cuda.is_available() else \"cpu\")\n",
    "\n",
    "# load the model so that you don't need to train the model again\n",
    "test_model = torch.load(\"model.pth\").to(device)"
   ]
  },
  {
   "cell_type": "code",
   "execution_count": null,
   "metadata": {
    "id": "AhDenexMcXvy"
   },
   "outputs": [],
   "source": [
    "def test(model,data_loader):\n",
    "    with torch.no_grad():\n",
    "        model.eval()\n",
    "        valid_loss = 0\n",
    "        correct = 0\n",
    "        bs = test_data_loader.batch_size\n",
    "        result = []\n",
    "        for i, (data, target) in enumerate(test_data_loader):\n",
    "            data, target = data.to(device), target.to(device)\n",
    "            output = model(data)\n",
    "            pred = output.data.max(1, keepdim=True)[1] # get the index of the max log-probability\n",
    "            arr = pred.data.cpu().numpy()\n",
    "            for j in range(pred.size()[0]):\n",
    "                file_name = test_data.samples[i*bs+j][0].split('/')[-1]\n",
    "                result.append((file_name,pred[j].cpu().numpy()[0]))\n",
    "    return result"
   ]
  },
  {
   "cell_type": "code",
   "execution_count": null,
   "metadata": {
    "id": "-VMTTpS6cXvy"
   },
   "outputs": [],
   "source": [
    "result = test(test_model,test_data_loader)"
   ]
  },
  {
   "cell_type": "code",
   "execution_count": null,
   "metadata": {
    "id": "AOWi77XEcXvy"
   },
   "outputs": [],
   "source": []
  },
  {
   "cell_type": "markdown",
   "metadata": {
    "id": "OIxqLgCNcXvy"
   },
   "source": [
    "# Write results to csv"
   ]
  },
  {
   "cell_type": "code",
   "execution_count": null,
   "metadata": {
    "id": "TdxxrvtZcXvz"
   },
   "outputs": [],
   "source": [
    "with open ('ID_result.csv','w') as f:\n",
    "    f.write('ID,label\\n')\n",
    "    for data in result:\n",
    "        f.write(data[0]+','+str(data[1])+'\\n')"
   ]
  },
  {
   "cell_type": "code",
   "execution_count": null,
   "metadata": {
    "id": "Y0ujVR_gcXvz"
   },
   "outputs": [],
   "source": []
  }
 ],
 "metadata": {
  "colab": {
   "name": "DLAD_2020_Lab2_ResNet18.ipynb",
   "provenance": []
  },
  "kernelspec": {
   "display_name": "Python 3",
   "language": "python",
   "name": "python3"
  },
  "language_info": {
   "codemirror_mode": {
    "name": "ipython",
    "version": 3
   },
   "file_extension": ".py",
   "mimetype": "text/x-python",
   "name": "python",
   "nbconvert_exporter": "python",
   "pygments_lexer": "ipython3",
   "version": "3.6.8"
  }
 },
 "nbformat": 4,
 "nbformat_minor": 1
}
